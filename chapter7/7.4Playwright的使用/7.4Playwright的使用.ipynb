{
 "cells": [
  {
   "cell_type": "markdown",
   "metadata": {},
   "source": [
    "# 介绍\n",
    "> 微软在 2020 年初开源的新一代自动化测试工具，它的功能类似于 Selenium、Pyppeteer 等，都可以驱动浏览器进行各种自动化操作\n",
    "# 优点\n",
    "- Playwright 的安装和配置非常简单，安装过程中会自动安装对应的浏览器和驱动，不需要额外配置 WebDriver 等。\n",
    "# 局限\n",
    "- Playwright不支持旧版Microsoft Edge或IE11。支持新的Microsoft Edge（在Chromium上）；所以对浏览器版本有硬性要求的项目不适用。\n",
    "- 需要SSL证书进行访问的网站可能无法录制，该过程需要单独定位编写。\n",
    "- 移动端测试是通过桌面浏览器来模拟移动设备（相当于自带模拟器），无法控制真机。\n",
    "# 安装\n",
    "执行以下两句命令即可,无需其他操作\n",
    "``` bash \n",
    "pip3 install playwright\n",
    "playwright install\n",
    "\n",
    "```\n",
    "# 转载博客\n",
    "https://segmentfault.com/a/1190000039150175   \n",
    "https://cuiqingcai.com/36045.html"
   ]
  },
  {
   "cell_type": "markdown",
   "metadata": {},
   "source": [
    "# 基本使用\n",
    "## 同步"
   ]
  },
  {
   "cell_type": "code",
   "execution_count": null,
   "metadata": {},
   "outputs": [],
   "source": [
    "from playwright.sync_api import sync_playwright\n",
    "\n",
    "# 浏览器上下文管理器 p \n",
    "with sync_playwright() as p:\n",
    "    #  Chromium、Firefox 以及 Webkit 浏览器实例\n",
    "    for browser_type in [p.chromium, p.firefox, p.webkit]:\n",
    "        # launch 方法返回的是一个 Browser 对象,打开浏览器\n",
    "        browser = browser_type.launch(headless=False)\n",
    "        # new_page 方法，相当于新建了一个选项卡\n",
    "        page = browser.new_page()\n",
    "        # 调用 goto，就是加载某个页面\n",
    "        page.goto('https://www.baidu.com')\n",
    "        # 截图\n",
    "        page.screenshot(path=f'screenshot-{browser_type.name}.png')\n",
    "        print(page.title())\n",
    "        browser.close()"
   ]
  },
  {
   "cell_type": "code",
   "execution_count": 2,
   "metadata": {},
   "outputs": [
    {
     "name": "stdout",
     "output_type": "stream",
     "text": [
      "百度一下，你就知道\n",
      "百度一下，你就知道\n",
      "百度一下，你就知道\n"
     ]
    }
   ],
   "source": [
    "# 在jupyter notebook中无法执行\n",
    "!python script1.py"
   ]
  },
  {
   "cell_type": "markdown",
   "metadata": {},
   "source": [
    "## 异步"
   ]
  },
  {
   "cell_type": "code",
   "execution_count": null,
   "metadata": {},
   "outputs": [],
   "source": [
    "import asyncio\n",
    "from playwright.async_api import async_playwright\n",
    "\n",
    "async def main():\n",
    "    async with async_playwright() as p:\n",
    "        for browser_type in [p.chromium, p.firefox, p.webkit]:\n",
    "            # 注意：如果不设置为 False，默认是无头模式启动浏览器，我们看不到任何窗口。\n",
    "            browser = await browser_type.launch()\n",
    "            page = await browser.new_page()\n",
    "            await page.goto('https://www.baidu.com')\n",
    "            await page.screenshot(path=f'screenshot-{browser_type.name}.png')\n",
    "            print(await page.title())\n",
    "            await browser.close()\n",
    "asyncio.run(main())"
   ]
  },
  {
   "cell_type": "code",
   "execution_count": 3,
   "metadata": {},
   "outputs": [],
   "source": [
    "# 在jupyter notebook中无法执行\n",
    "!python script2.py"
   ]
  },
  {
   "cell_type": "markdown",
   "metadata": {},
   "source": [
    "# 代码生成(操作录制)\n",
    "- 查看文档\n",
    "``` bash \n",
    "playwright codegen --help\n",
    "```\n",
    "- 例子：\n",
    "``` bash \n",
    "playwright codegen -o script.py -b chromium\n",
    "```\n",
    "-  -o 代表输出的代码文件的名称；\n",
    "- —target 代表使用的语言，默认是 python（同步模式）的操作代码，如果传入 python-async 就会生成异步模式的代码；\n",
    "- -b 代表的是使用的浏览器，默认是 Chromium\n",
    "-  —device 可以模拟使用手机浏览器，比如 iPhone 11，\n",
    "- —lang 代表设置浏览器的语言，\n",
    "- —timeout 可以设置页面加载超时时间。\n"
   ]
  },
  {
   "cell_type": "code",
   "execution_count": 4,
   "metadata": {},
   "outputs": [],
   "source": [
    "! playwright codegen -o script.py -b firefox"
   ]
  },
  {
   "cell_type": "markdown",
   "metadata": {},
   "source": [
    "# 移动端浏览器"
   ]
  },
  {
   "cell_type": "code",
   "execution_count": null,
   "metadata": {},
   "outputs": [],
   "source": [
    "from playwright.sync_api import sync_playwright\n",
    "\n",
    "with sync_playwright() as p:\n",
    "    # 传入的是手机的型号，比如 iPhone 12 Pro Max\n",
    "    iphone_12_pro_max = p.devices['iPhone 12 Pro Max']\n",
    "    # launch 方法返回的是一个 Browser 对象,打开浏览器\n",
    "    browser = p.webkit.launch(headless=False)\n",
    "    # 建了一个移动端 BrowserContext 对象，\n",
    "    # 通过 geolocation 参数传入了经纬度信息，\n",
    "    # 通过 permissions 参数传入了赋予的权限信息，\n",
    "    # 最后将得到的 BrowserContext 对象赋值为 context 变量。\n",
    "    context = browser.new_context(\n",
    "        **iphone_12_pro_max,\n",
    "        locale='zh-CN',\n",
    "        geolocation={'longitude': 116.39014, 'latitude': 39.913904},\n",
    "        permissions=['geolocation']\n",
    "    )\n",
    "    # 调用 new_page 方法创建一个新的选项卡\n",
    "    page = context.new_page()\n",
    "    # 然后跳转到高德地图\n",
    "    page.goto('https://amap.com')\n",
    "    # 并调用了 wait_for_load_state 方法等待页面某个状态完成\n",
    "    # 这里我们传入的 state 是 networkidle，也就是网络空闲状态。\n",
    "    # 因为在页面初始化和加载过程中，肯定是伴随有网络请求的\n",
    "    page.wait_for_load_state(state='networkidle')\n",
    "    # 调用 screenshot 方法获取当前页面截图\n",
    "    page.screenshot(path='location-iphone.png')\n",
    "    browser.close()"
   ]
  },
  {
   "cell_type": "code",
   "execution_count": 6,
   "metadata": {},
   "outputs": [],
   "source": [
    "!python script3.py"
   ]
  },
  {
   "cell_type": "markdown",
   "metadata": {},
   "source": [
    "# 定位\n",
    "- CSS 选择器\n",
    "- XPath\n",
    "- Playwright 文本内容筛选，根据节点层级结构筛选等等。\n",
    "- 文档：https://playwright.dev/docs/selectors"
   ]
  },
  {
   "cell_type": "markdown",
   "metadata": {},
   "source": [
    "## 文本"
   ]
  },
  {
   "cell_type": "code",
   "execution_count": 7,
   "metadata": {},
   "outputs": [
    {
     "ename": "NameError",
     "evalue": "name 'page' is not defined",
     "output_type": "error",
     "traceback": [
      "\u001b[1;31m---------------------------------------------------------------------------\u001b[0m",
      "\u001b[1;31mNameError\u001b[0m                                 Traceback (most recent call last)",
      "\u001b[1;32m~\\AppData\\Local\\Temp\\ipykernel_32040\\2567899517.py\u001b[0m in \u001b[0;36m<module>\u001b[1;34m\u001b[0m\n\u001b[0;32m      1\u001b[0m \u001b[1;31m# 选择文本是 Log in 的节点，并点击\u001b[0m\u001b[1;33m\u001b[0m\u001b[1;33m\u001b[0m\u001b[1;33m\u001b[0m\u001b[0m\n\u001b[1;32m----> 2\u001b[1;33m \u001b[0mpage\u001b[0m\u001b[1;33m.\u001b[0m\u001b[0mclick\u001b[0m\u001b[1;33m(\u001b[0m\u001b[1;34m\"text=Log in\"\u001b[0m\u001b[1;33m)\u001b[0m\u001b[1;33m\u001b[0m\u001b[1;33m\u001b[0m\u001b[0m\n\u001b[0m",
      "\u001b[1;31mNameError\u001b[0m: name 'page' is not defined"
     ]
    }
   ],
   "source": [
    "# Text 选择文本是 Log in 的节点，并点击\n",
    "page.click(\"text=Log in\")"
   ]
  },
  {
   "cell_type": "markdown",
   "metadata": {},
   "source": [
    "## CSS 选择器 + 文本"
   ]
  },
  {
   "cell_type": "code",
   "execution_count": null,
   "metadata": {},
   "outputs": [],
   "source": [
    "# CSS+Text has-text 代表包含指定的字符串\n",
    "page.click(\"article:has-text('Playwright')\")\n",
    "# # CSS+Text 代表字符串完全匹配\n",
    "page.click(\"#nav-bar :text('Contact us')\")"
   ]
  },
  {
   "cell_type": "markdown",
   "metadata": {},
   "source": [
    "## CSS 选择器 + 节点关系"
   ]
  },
  {
   "cell_type": "code",
   "execution_count": null,
   "metadata": {},
   "outputs": [],
   "source": [
    "# 选择 class 为 item-description 的节点，且该节点还要包含 class 为 item-promo-banner 的子节点。\n",
    "page.click(\".item-description:has(.item-promo-banner)\")\n",
    "# 这里选择的就是一个 input 节点，并且该 input 节点要位于文本值为 Username 的节点的右侧。\n",
    "page.click(\"input:right-of(:text('Username'))\")"
   ]
  },
  {
   "cell_type": "markdown",
   "metadata": {},
   "source": [
    "# 事件触发和监听\n",
    "- 官方文档：https://playwright.dev/docs/api/class-page\n",
    "## on 时间监听"
   ]
  },
  {
   "cell_type": "code",
   "execution_count": null,
   "metadata": {},
   "outputs": [],
   "source": [
    "from playwright.sync_api import sync_playwright\n",
    "\n",
    "def on_response(response):\n",
    "    if '/api/movie/' in response.url and response.status == 200:\n",
    "        print(response.json())\n",
    "\n",
    "with sync_playwright() as p:\n",
    "    browser = p.chromium.launch(headless=False)\n",
    "    page = browser.new_page()\n",
    "    # 监听网络响应\n",
    "    page.on('response', on_response)\n",
    "    page.goto('https://spa6.scrape.center/')\n",
    "    page.wait_for_load_state('networkidle')\n",
    "    browser.close()"
   ]
  },
  {
   "cell_type": "code",
   "execution_count": 9,
   "metadata": {},
   "outputs": [
    {
     "name": "stdout",
     "output_type": "stream",
     "text": [
      "{'count': 101, 'results': [{'id': 1, 'name': '霸王别姬', 'alias': 'Farewell My Concubine', 'cover': 'https://p0.meituan.net/movie/ce4da3e03e655b5b88ed31b5cd7896cf62472.jpg@464w_644h_1e_1c', 'categories': ['剧情', '爱情'], 'published_at': '1993-07-26', 'minute': 171, 'score': 9.5, 'regions': ['中国内地', '中国香港']}, {'id': 2, 'name': '这个杀手不太冷', 'alias': 'Léon', 'cover': 'https://p1.meituan.net/movie/6bea9af4524dfbd0b668eaa7e187c3df767253.jpg@464w_644h_1e_1c', 'categories': ['剧情', '动作', '犯罪'], 'published_at': '1994-09-14', 'minute': 110, 'score': 9.5, 'regions': ['法国']}, {'id': 3, 'name': '肖申克的救赎', 'alias': 'The Shawshank Redemption', 'cover': 'https://p0.meituan.net/movie/283292171619cdfd5b240c8fd093f1eb255670.jpg@464w_644h_1e_1c', 'categories': ['剧情', '犯罪'], 'published_at': '1994-09-10', 'minute': 142, 'score': 9.5, 'regions': ['美国']}, {'id': 4, 'name': '泰坦尼克号', 'alias': 'Titanic', 'cover': 'https://p1.meituan.net/movie/b607fba7513e7f15eab170aac1e1400d878112.jpg@464w_644h_1e_1c', 'categories': ['剧情', '爱情', '灾难'], 'published_at': '1998-04-03', 'minute': 194, 'score': 9.5, 'regions': ['美国']}, {'id': 5, 'name': '罗马假日', 'alias': 'Roman Holiday', 'cover': 'https://p0.meituan.net/movie/289f98ceaa8a0ae737d3dc01cd05ab052213631.jpg@464w_644h_1e_1c', 'categories': ['剧情', '喜剧', '爱情'], 'published_at': '1953-08-20', 'minute': 118, 'score': 9.5, 'regions': ['美国']}, {'id': 6, 'name': '唐伯虎点秋香', 'alias': 'Flirting Scholar', 'cover': 'https://p0.meituan.net/movie/da64660f82b98cdc1b8a3804e69609e041108.jpg@464w_644h_1e_1c', 'categories': ['喜剧', '爱情', '古装'], 'published_at': '1993-07-01', 'minute': 102, 'score': 9.5, 'regions': ['中国香港']}, {'id': 7, 'name': '乱世佳人', 'alias': 'Gone with the Wind', 'cover': 'https://p0.meituan.net/movie/223c3e186db3ab4ea3bb14508c709400427933.jpg@464w_644h_1e_1c', 'categories': ['剧情', '爱情', '历史', '战争'], 'published_at': '1939-12-15', 'minute': 238, 'score': 9.5, 'regions': ['美国']}, {'id': 8, 'name': '喜剧之王', 'alias': 'The King of Comedy', 'cover': 'https://p0.meituan.net/movie/1f0d671f6a37f9d7b015e4682b8b113e174332.jpg@464w_644h_1e_1c', 'categories': ['剧情', '喜剧', '爱情'], 'published_at': '1999-02-13', 'minute': 85, 'score': 9.5, 'regions': ['中国香港']}, {'id': 9, 'name': '楚门的世界', 'alias': 'The Truman Show', 'cover': 'https://p0.meituan.net/movie/8959888ee0c399b0fe53a714bc8a5a17460048.jpg@464w_644h_1e_1c', 'categories': ['剧情', '科幻'], 'published_at': None, 'minute': 103, 'score': 9.0, 'regions': ['美国']}, {'id': 10, 'name': '狮子王', 'alias': 'The Lion King', 'cover': 'https://p0.meituan.net/movie/27b76fe6cf3903f3d74963f70786001e1438406.jpg@464w_644h_1e_1c', 'categories': ['动画', '歌舞', '冒险'], 'published_at': '1995-07-15', 'minute': 89, 'score': 9.0, 'regions': ['美国']}]}\n"
     ]
    }
   ],
   "source": [
    "! python script4.py"
   ]
  },
  {
   "cell_type": "markdown",
   "metadata": {},
   "source": [
    "# 元素常用操作\n",
    "\n",
    "- 下拉选择框：selectOpion、value、labei、index\n",
    "- 文件上传：setInputFiles、单个文件、多个文件、拖放上传\n",
    "- 鼠标点击：click、dbclick\n",
    "- 鼠标拖动：down、up\n",
    "- 鼠标移动：move\n",
    "- 触摸屏幕：tag\n",
    "- 键盘按键：press\n",
    "- 截屏、录屏：screenshot、recordVideo"
   ]
  },
  {
   "cell_type": "markdown",
   "metadata": {},
   "source": [
    "# 网络劫持(可用来代码注入，数据爬取)\n",
    "利用 route 方法，我们可以实现一些网络劫持和修改操作，比如修改 request 的属性，修改 response 响应结果等"
   ]
  },
  {
   "cell_type": "code",
   "execution_count": null,
   "metadata": {},
   "outputs": [],
   "source": [
    "from playwright.sync_api import sync_playwright\n",
    "import re\n",
    "\n",
    "with sync_playwright() as p:\n",
    "    browser = p.chromium.launch(headless=False)\n",
    "    page = browser.new_page()\n",
    "\n",
    "    def cancel_request(route, request):\n",
    "        route.abort()\n",
    "    # 利用 route 方法，我们可以实现一些网络劫持和修改操作，比如修改 request 的属性，修改 response 响应结果等\n",
    "    # \n",
    "    page.route(re.compile(r\"(\\.png)|(\\.jpg)\"), cancel_request)\n",
    "    page.goto(\"https://spa6.scrape.center/\")\n",
    "    page.wait_for_load_state('networkidle')\n",
    "    page.screenshot(path='no_picture.png')\n",
    "    browser.close()"
   ]
  },
  {
   "cell_type": "markdown",
   "metadata": {},
   "source": [
    "# 防屏蔽"
   ]
  },
  {
   "cell_type": "code",
   "execution_count": null,
   "metadata": {},
   "outputs": [],
   "source": [
    "js=\"\"\"\n",
    "Object.defineProperties(navigator, {webdriver:{get:()=>undefined}});\n",
    "\"\"\"\n",
    "page.add_init_script(js)"
   ]
  }
 ],
 "metadata": {
  "kernelspec": {
   "display_name": "Python 3.7.13 ('py37')",
   "language": "python",
   "name": "python3"
  },
  "language_info": {
   "codemirror_mode": {
    "name": "ipython",
    "version": 3
   },
   "file_extension": ".py",
   "mimetype": "text/x-python",
   "name": "python",
   "nbconvert_exporter": "python",
   "pygments_lexer": "ipython3",
   "version": "3.7.13"
  },
  "orig_nbformat": 4,
  "vscode": {
   "interpreter": {
    "hash": "a4a847150c17a56e8ab8e8e7872ca30cb83471eb1df49153297cb018a7672186"
   }
  }
 },
 "nbformat": 4,
 "nbformat_minor": 2
}
