{
 "cells": [
  {
   "cell_type": "markdown",
   "metadata": {},
   "source": [
    "# 百度搜索Python"
   ]
  },
  {
   "cell_type": "code",
   "execution_count": null,
   "metadata": {},
   "outputs": [],
   "source": [
    "from selenium import webdriver\n",
    "\n",
    "from selenium.webdriver.chrome.service import Service\n",
    "from selenium.webdriver.chrome.options import Options\n",
    "from selenium.webdriver.common.by import By\n",
    "from selenium.webdriver.common.keys import Keys\n",
    "from selenium.webdriver.support.wait import WebDriverWait\n",
    "from selenium.webdriver.support import expected_conditions as EC \n",
    "\n",
    "# chrome 浏览器位置\n",
    "chrome_exe =  r\"C:\\Program Files\\Google\\Chrome\\Application\\chrome.exe\"\n",
    "# chrome 浏览器驱动位置\n",
    "chrome_service = Service(r'C:\\Users\\root\\anaconda3\\Scripts\\chromedriver.exe')\n",
    "\n",
    "# 驱动参数配置\n",
    "options = Options()\n",
    "# option.add_argument('headless')  # 后台运行\n",
    "\n",
    "options.binary_location = \"C:\\Program Files\\Google\\Chrome\\Application\\chrome.exe\"\n",
    "browser = webdriver.Chrome(\n",
    "    options=options, \n",
    "    service =chrome_service)\n",
    "# 打开baidu.com\n",
    "browser.get(\"http://baidu.com\")\n",
    "# 获取输入框 通过id='kw'\n",
    "input_= browser.find_element(by=By.ID,value='kw')\n",
    "# 输入框 输入值\n",
    "input_.send_keys(\"Python\")\n",
    "# 键盘 enter\n",
    "input_.send_keys(Keys.ENTER)\n",
    "# 10s超时计时器\n",
    "wait = WebDriverWait(browser,10)\n",
    "# 事件触发\n",
    "wait.until(EC.presence_of_element_located((By.ID,'content_left')))\n",
    "print(browser.current_url)\n",
    "print(browser.get_cookies())\n",
    "print(browser.page_source)\n",
    "# browser.quit()"
   ]
  },
  {
   "cell_type": "markdown",
   "metadata": {},
   "source": [
    "#  Selenium用法"
   ]
  },
  {
   "cell_type": "markdown",
   "metadata": {},
   "source": [
    "## 1 初始化浏览器对象"
   ]
  },
  {
   "cell_type": "code",
   "execution_count": null,
   "metadata": {},
   "outputs": [],
   "source": [
    "from selenium import webdriver\n",
    "\n",
    "from selenium.webdriver.chrome.service import Service\n",
    "from selenium.webdriver.chrome.options import Options\n",
    "\n",
    "# chrome 浏览器位置\n",
    "# 驱动参数配置\n",
    "options = Options()\n",
    "# option.add_argument('headless')  # 后台运行\n",
    "options.binary_location = r\"C:\\Program Files\\Google\\Chrome\\Application\\chrome.exe\"\n",
    "\n",
    "# chrome 浏览器驱动位置\n",
    "chrome_service = Service(r'C:\\Users\\root\\anaconda3\\Scripts\\chromedriver.exe')\n",
    "\n",
    "\n",
    "browser = webdriver.Chrome(\n",
    "    options=options, \n",
    "    service =chrome_service)"
   ]
  },
  {
   "cell_type": "markdown",
   "metadata": {},
   "source": [
    "## 2.访问页面"
   ]
  },
  {
   "cell_type": "code",
   "execution_count": null,
   "metadata": {},
   "outputs": [],
   "source": [
    "browser.get(\"https://www.taobao.com\")"
   ]
  },
  {
   "cell_type": "markdown",
   "metadata": {},
   "source": [
    "## 3.查找节点"
   ]
  },
  {
   "cell_type": "markdown",
   "metadata": {},
   "source": [
    "### 3.1 单节点"
   ]
  },
  {
   "cell_type": "code",
   "execution_count": null,
   "metadata": {},
   "outputs": [],
   "source": [
    "from selenium.webdriver.common.by import By\n",
    "# 通过节点的id选择\n",
    "input_by_id = browser.find_element(By.ID,'q')\n",
    "# 通过css选择器\n",
    "input_by_css = browser.find_element(By.CSS_SELECTOR,'#q')\n",
    "# 通过xpath选择器\n",
    "input_by_xpath = browser.find_element(By.XPATH,'//*[@id=\"q\"]')\n",
    "print(input_by_id,input_by_css,input_by_xpath)"
   ]
  },
  {
   "cell_type": "markdown",
   "metadata": {},
   "source": [
    "### 3.2多个节点"
   ]
  },
  {
   "cell_type": "code",
   "execution_count": null,
   "metadata": {},
   "outputs": [],
   "source": [
    "from selenium.webdriver.common.by import By\n",
    "lis = browser.find_elements(by=By.CSS_SELECTOR,value='.service-bd li')\n",
    "lis"
   ]
  },
  {
   "cell_type": "markdown",
   "metadata": {},
   "source": [
    "## 4.事件(节点交互)\n",
    "点击、输入、清空"
   ]
  },
  {
   "cell_type": "code",
   "execution_count": null,
   "metadata": {},
   "outputs": [],
   "source": [
    "import time \n",
    "# 获取到输入框\n",
    "input_ = browser.find_element(by=By.ID,value=\"q\")\n",
    "# 输入值\n",
    "input_.send_keys(\"iphone\")\n",
    "time.sleep(1)\n",
    "input_.clear()\n",
    "input_.send_keys(\"Ipad\")\n",
    "# 确定按钮\n",
    "button = browser.find_element(by=By.CLASS_NAME,value=\"btn-search\")\n",
    "button.click()\n"
   ]
  },
  {
   "cell_type": "markdown",
   "metadata": {},
   "source": [
    "## 5.动作链(拖拽)"
   ]
  },
  {
   "cell_type": "code",
   "execution_count": null,
   "metadata": {},
   "outputs": [],
   "source": [
    "from selenium.webdriver import ActionChains\n",
    "browser.get(\"https://www.runoob.com/try/try.php?filename=jqueryui-api-droppable\")\n",
    "# 选择框体\n",
    "browser.switch_to.frame('iframeResult')\n",
    "# 起始位置\n",
    "source= browser.find_element(by=By.CSS_SELECTOR,value=\"#draggable\")\n",
    "target = browser.find_element(by=By.CSS_SELECTOR,value=\"#droppable\")\n",
    "# 定义动作\n",
    "actions =ActionChains(browser)\n",
    "actions.drag_and_drop(source=source,target=target)\n",
    "# 执行动作\n",
    "actions.perform()\n"
   ]
  },
  {
   "cell_type": "markdown",
   "metadata": {},
   "source": [
    "## 6.运行JS脚本(跳转页尾)"
   ]
  },
  {
   "cell_type": "code",
   "execution_count": null,
   "metadata": {},
   "outputs": [],
   "source": [
    "browser.get(\"https://www.zhihu.com/explore\")\n",
    "browser.execute_script('window.scrollTo(0,document.body.scrollHeight)')\n",
    "browser.execute_script('alert(\"To Bottom\")')\n"
   ]
  },
  {
   "cell_type": "markdown",
   "metadata": {},
   "source": [
    "## 7.获取节点信息"
   ]
  },
  {
   "cell_type": "markdown",
   "metadata": {},
   "source": [
    "### 7.1 获取属性"
   ]
  },
  {
   "cell_type": "code",
   "execution_count": null,
   "metadata": {},
   "outputs": [],
   "source": [
    "browser.get(\"https://spa2.scrape.center/\")\n",
    "logo = browser.find_element(by=By.CLASS_NAME,value=\"logo-image\")\n",
    "print(logo)\n",
    "print(logo.get_attribute(\"src\"))"
   ]
  },
  {
   "cell_type": "markdown",
   "metadata": {},
   "source": [
    "### 7.2 获取文本值"
   ]
  },
  {
   "cell_type": "code",
   "execution_count": null,
   "metadata": {},
   "outputs": [],
   "source": [
    "input_  = browser.find_element(by=By.CLASS_NAME,value=\"logo-title\")\n",
    "print(input_)\n",
    "print(input_.text)"
   ]
  },
  {
   "cell_type": "markdown",
   "metadata": {},
   "source": [
    "### 7.3 获取ID、位置、标签名和大小"
   ]
  },
  {
   "cell_type": "code",
   "execution_count": null,
   "metadata": {},
   "outputs": [],
   "source": [
    "input_.id,input_.location,input_.tag_name,input_.size"
   ]
  },
  {
   "cell_type": "markdown",
   "metadata": {},
   "source": [
    "## 8.切换Frame"
   ]
  },
  {
   "cell_type": "code",
   "execution_count": null,
   "metadata": {},
   "outputs": [],
   "source": [
    "browser.get(\"https://www.runoob.com/try/try.php?filename=jqueryui-api-droppable\")\n",
    "browser.switch_to.frame('iframeResult')\n",
    "\n",
    "try:\n",
    "    # 子Frame中无logo\n",
    "    logo = browser.find_element(by=By.CLASS_NAME,value=\"logo\")\n",
    "except:\n",
    "    print(\"No Logo\")\n",
    "browser.switch_to.parent_frame()\n",
    "logo = browser.find_element(by=By.CLASS_NAME,value=\"logo\")\n",
    "print(logo)"
   ]
  },
  {
   "cell_type": "markdown",
   "metadata": {},
   "source": [
    "## 9.延时等待\n",
    "get方法在网页框架加载结束后就会结束执行，但此时网页可能并未完全加载。"
   ]
  },
  {
   "cell_type": "markdown",
   "metadata": {},
   "source": [
    "### 9.1 隐式等待"
   ]
  },
  {
   "cell_type": "code",
   "execution_count": null,
   "metadata": {},
   "outputs": [],
   "source": [
    "# 在查找节点的节点没用立即出现时，隐式等待会先等待一段时间再查找Dom\n",
    "browser.implicitly_wait(10)\n",
    "browser.get(\"https://spa2.scrape.center\")\n",
    "input_ = browser.find_element(by=By.CLASS_NAME,value=\"logo-image\")\n",
    "input_"
   ]
  },
  {
   "cell_type": "markdown",
   "metadata": {},
   "source": [
    "### 9.2 显式等待"
   ]
  },
  {
   "cell_type": "code",
   "execution_count": null,
   "metadata": {},
   "outputs": [],
   "source": [
    "from selenium.webdriver.support import expected_conditions as EC\n",
    "from selenium.webdriver.support.wait import WebDriverWait\n",
    "\n",
    "browser.get(\"https://www.taobao.com\")\n",
    "wait= WebDriverWait(browser,10)\n",
    "input_ = wait.until(EC.presence_of_element_located((By.ID,'q')))\n",
    "button = wait.until(EC.element_to_be_clickable((By.CLASS_NAME,'btn-search')))\n",
    "input_,button"
   ]
  },
  {
   "cell_type": "markdown",
   "metadata": {},
   "source": [
    "## 10.前进和后退"
   ]
  },
  {
   "cell_type": "code",
   "execution_count": null,
   "metadata": {},
   "outputs": [],
   "source": [
    "browser.get(\"https://www.taobao.com\")\n",
    "browser.get(\"https://www.zhihu.com\")\n",
    "browser.get(\"https://www.python.org\")\n",
    "browser.back()\n",
    "time.sleep(1)\n",
    "browser.forward()\n",
    "\n"
   ]
  },
  {
   "cell_type": "markdown",
   "metadata": {},
   "source": [
    "## 11.Cookie"
   ]
  },
  {
   "cell_type": "code",
   "execution_count": null,
   "metadata": {},
   "outputs": [],
   "source": [
    "browser.get(\"https://www.zhihu.com\")\n",
    "print(browser.get_cookies())\n",
    "browser.add_cookie({\"name\":'name','domain': '.zhihu.com','value':'germy'})\n",
    "print(browser.get_cookies())\n",
    "browser.delete_all_cookies()\n",
    "print(browser.get_cookies())"
   ]
  },
  {
   "cell_type": "markdown",
   "metadata": {},
   "source": [
    "## 12.选项卡管理"
   ]
  },
  {
   "cell_type": "code",
   "execution_count": null,
   "metadata": {},
   "outputs": [],
   "source": [
    "browser.get('https://baidu.com')\n",
    "browser.execute_script('window.open()')\n",
    "print(browser.window_handles)\n",
    "browser.switch_to.window(browser.window_handles[1])\n",
    "browser.get('https://taobao.com')\n",
    "time.sleep(1)\n",
    "browser.switch_to.window(browser.window_handles[0])\n",
    "browser.get(\"https://www.python.org\")"
   ]
  },
  {
   "cell_type": "markdown",
   "metadata": {},
   "source": [
    "## 13.反屏蔽"
   ]
  },
  {
   "cell_type": "code",
   "execution_count": null,
   "metadata": {},
   "outputs": [],
   "source": [
    "browser.get(\"https://antispider1.scrape.center/\")"
   ]
  },
  {
   "cell_type": "code",
   "execution_count": null,
   "metadata": {},
   "outputs": [],
   "source": [
    "from selenium import webdriver\n",
    "\n",
    "from selenium.webdriver.chrome.service import Service\n",
    "from selenium.webdriver.chrome.options import Options\n",
    "\n",
    "# chrome 浏览器位置\n",
    "# 驱动参数配置\n",
    "options = Options()\n",
    "options.add_experimental_option('excludeSwitches',['enable-automation'])\n",
    "options.add_experimental_option('useAutomationExtension',False)\n",
    "\n",
    "# option.add_argument('headless')  # 后台运行\n",
    "options.binary_location = r\"C:\\Program Files\\Google\\Chrome\\Application\\chrome.exe\"\n",
    "\n",
    "# chrome 浏览器驱动位置\n",
    "chrome_service = Service(r'C:\\Users\\root\\anaconda3\\Scripts\\chromedriver.exe')\n",
    "\n",
    "\n",
    "browser = webdriver.Chrome(\n",
    "    options=options, \n",
    "    service =chrome_service)\n",
    "\n",
    "\n",
    "browser.execute_cdp_cmd('Page.addScriptToEvaluateOnNewDocument',{\n",
    "    'source':'Object.defineProperty(navigator,\"webdriver\",{get:()=>undefined})'\n",
    "})\n",
    "browser.get(\"https://antispider1.scrape.center/\")"
   ]
  },
  {
   "cell_type": "markdown",
   "metadata": {},
   "source": [
    "## 14.无头模式"
   ]
  },
  {
   "cell_type": "code",
   "execution_count": null,
   "metadata": {},
   "outputs": [],
   "source": [
    "from selenium import webdriver\n",
    "\n",
    "from selenium.webdriver.chrome.service import Service\n",
    "from selenium.webdriver.chrome.options import Options\n",
    "\n",
    "# chrome 浏览器位置\n",
    "# 驱动参数配置\n",
    "options = Options()\n",
    "options.add_experimental_option('excludeSwitches',['enable-automation'])\n",
    "options.add_experimental_option('useAutomationExtension',False)\n",
    "options.add_argument(\"--headless\") # 后台运行\n",
    "\n",
    "options.binary_location = r\"C:\\Program Files\\Google\\Chrome\\Application\\chrome.exe\"\n",
    "\n",
    "# chrome 浏览器驱动位置\n",
    "chrome_service = Service(r'C:\\Users\\root\\anaconda3\\Scripts\\chromedriver.exe')\n",
    "\n",
    "\n",
    "browser = webdriver.Chrome(\n",
    "    options=options, \n",
    "    service =chrome_service)\n",
    "\n",
    "browser.set_window_size(1366,768)\n",
    "browser.get(\"https://www.baidu.com\")\n",
    "browser.get_screenshot_as_file('preview.png')"
   ]
  }
 ],
 "metadata": {
  "kernelspec": {
   "display_name": "Python 3.9.7 ('base')",
   "language": "python",
   "name": "python3"
  },
  "language_info": {
   "codemirror_mode": {
    "name": "ipython",
    "version": 3
   },
   "file_extension": ".py",
   "mimetype": "text/x-python",
   "name": "python",
   "nbconvert_exporter": "python",
   "pygments_lexer": "ipython3",
   "version": "3.9.7"
  },
  "orig_nbformat": 4,
  "vscode": {
   "interpreter": {
    "hash": "5cb7d1d1f1d5f08d430a9f2c656971d5f7d97295e72ac0e8f84de64712801ef3"
   }
  }
 },
 "nbformat": 4,
 "nbformat_minor": 2
}
