{
 "cells": [
  {
   "cell_type": "code",
   "execution_count": 3,
   "metadata": {},
   "outputs": [],
   "source": [
    "from urllib.parse import urlencode\n",
    "import requests\n",
    "base_url = 'https://m.weibo.cn/api/container/getIndex?'\n",
    "\n",
    "headers = {\n",
    "    'Host': 'm.weibo.cn',\n",
    "    'Referer': 'https://m.weibo.cn/u/2830678474',\n",
    "    'User-Agent': 'Mozilla/5.0 (Macintosh; Intel Mac OS X 10_12_3) AppleWebKit/537.36 (KHTML, like Gecko) Chrome/58.0.3029.110 Safari/537.36',\n",
    "    'X-Requested-With': 'XMLHttpRequest',\n",
    "}\n",
    "\n",
    "def get_page(page):\n",
    "    params = {\n",
    "        'type': 'uid',\n",
    "        'value': '2830678474',\n",
    "        'containerid': '1076032830678474',\n",
    "        'page': page\n",
    "    }\n",
    "    url = base_url + urlencode(params)\n",
    "    print(url)\n",
    "    try:\n",
    "        response = requests.get(url, headers=headers)\n",
    "        if response.status_code == 200:\n",
    "            return response.json()\n",
    "    except requests.ConnectionError as e:\n",
    "        print('Error', e.args)"
   ]
  },
  {
   "cell_type": "code",
   "execution_count": 7,
   "metadata": {},
   "outputs": [
    {
     "name": "stdout",
     "output_type": "stream",
     "text": [
      "https://m.weibo.cn/api/container/getIndex?type=uid&value=2830678474&containerid=1076032830678474&page=1\n"
     ]
    }
   ],
   "source": [
    "json= get_page(1)"
   ]
  },
  {
   "cell_type": "code",
   "execution_count": 11,
   "metadata": {},
   "outputs": [
    {
     "data": {
      "text/plain": [
       "dict"
      ]
     },
     "execution_count": 11,
     "metadata": {},
     "output_type": "execute_result"
    }
   ],
   "source": [
    "type(json)"
   ]
  },
  {
   "cell_type": "code",
   "execution_count": 15,
   "metadata": {},
   "outputs": [
    {
     "data": {
      "text/plain": [
       "'转发微博'"
      ]
     },
     "execution_count": 15,
     "metadata": {},
     "output_type": "execute_result"
    }
   ],
   "source": [
    "json.get('data').get('cards')[6].get('mblog').get('text')"
   ]
  },
  {
   "cell_type": "code",
   "execution_count": null,
   "metadata": {},
   "outputs": [],
   "source": [
    "from pyquery import PyQuery as pq\n",
    "\n",
    "def parse_page(json):\n",
    "    if json:\n",
    "        items = json.get('data').get('cards')\n",
    "        for item in items:\n",
    "            item = item.get('mblog')\n",
    "            weibo = {}\n",
    "            weibo['id'] = item.get('id')\n",
    "            weibo['text'] = pq(item.get('text')).text()\n",
    "            weibo['attitudes'] = item.get('attitudes_count')\n",
    "            weibo['comments'] = item.get('comments_count')\n",
    "            weibo['reposts'] = item.get('reposts_count')\n",
    "            yield weibo"
   ]
  }
 ],
 "metadata": {
  "kernelspec": {
   "display_name": "Python 3.7.13 ('py37')",
   "language": "python",
   "name": "python3"
  },
  "language_info": {
   "codemirror_mode": {
    "name": "ipython",
    "version": 3
   },
   "file_extension": ".py",
   "mimetype": "text/x-python",
   "name": "python",
   "nbconvert_exporter": "python",
   "pygments_lexer": "ipython3",
   "version": "3.7.13"
  },
  "orig_nbformat": 4,
  "vscode": {
   "interpreter": {
    "hash": "a4a847150c17a56e8ab8e8e7872ca30cb83471eb1df49153297cb018a7672186"
   }
  }
 },
 "nbformat": 4,
 "nbformat_minor": 2
}
