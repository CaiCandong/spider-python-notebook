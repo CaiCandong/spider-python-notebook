{
 "cells": [
  {
   "cell_type": "markdown",
   "metadata": {},
   "source": [
    "# 环境安装"
   ]
  },
  {
   "cell_type": "markdown",
   "metadata": {},
   "source": [
    "## mongodb\n",
    "docker pull mongodb\n",
    "docker run --name mongodb -p 27017:27017 -d mongo"
   ]
  },
  {
   "cell_type": "code",
   "execution_count": 2,
   "metadata": {},
   "outputs": [],
   "source": [
    "import asyncio\n",
    "#  pip install aiohttp \n",
    "import aiohttp \n",
    "import logging \n",
    "\n",
    "logging.basicConfig(level=logging.INFO,\n",
    "        format ='%(asctime)s-%(levelname)s: %(message)s')"
   ]
  },
  {
   "cell_type": "code",
   "execution_count": 6,
   "metadata": {},
   "outputs": [],
   "source": [
    "api = \"https://spa5.scrape.center/api/book\"\n",
    "def get_params(limit,offset):\n",
    "    params = {\n",
    "        \"limit\":limit,\n",
    "        \"offset\":offset,\n",
    "    }\n",
    "    return params"
   ]
  },
  {
   "cell_type": "code",
   "execution_count": null,
   "metadata": {},
   "outputs": [],
   "source": [
    "import requests \n",
    "requests.get(api,params=get_params(18,0)).text"
   ]
  },
  {
   "cell_type": "code",
   "execution_count": 5,
   "metadata": {},
   "outputs": [
    {
     "name": "stdout",
     "output_type": "stream",
     "text": [
      "\"limit\":\"18\",\n",
      "\"offset\":\"0\",\n"
     ]
    }
   ],
   "source": [
    "for line in \"limit=18&offset=0\".split('&'):\n",
    "    key,val = line.split('=')\n",
    "    print(f'\"{key}\":\"{val}\",')"
   ]
  }
 ],
 "metadata": {
  "kernelspec": {
   "display_name": "Python 3.7.13 ('py37')",
   "language": "python",
   "name": "python3"
  },
  "language_info": {
   "codemirror_mode": {
    "name": "ipython",
    "version": 3
   },
   "file_extension": ".py",
   "mimetype": "text/x-python",
   "name": "python",
   "nbconvert_exporter": "python",
   "pygments_lexer": "ipython3",
   "version": "3.7.13"
  },
  "orig_nbformat": 4,
  "vscode": {
   "interpreter": {
    "hash": "a4a847150c17a56e8ab8e8e7872ca30cb83471eb1df49153297cb018a7672186"
   }
  }
 },
 "nbformat": 4,
 "nbformat_minor": 2
}
