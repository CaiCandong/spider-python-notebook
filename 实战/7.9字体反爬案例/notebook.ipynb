{
 "cells": [
  {
   "cell_type": "code",
   "execution_count": 1,
   "metadata": {},
   "outputs": [
    {
     "name": "stdout",
     "output_type": "stream",
     "text": [
      "name: 霸王别姬 - Farewell My Concubine categories: ['剧情', '爱情'] score: \n",
      "name: 这个杀手不太冷 - Léon categories: ['剧情', '动作', '犯罪'] score: \n",
      "name: 肖申克的救赎 - The Shawshank Redemption categories: ['剧情', '犯罪'] score: \n",
      "name: 泰坦尼克号 - Titanic categories: ['剧情', '爱情', '灾难'] score: \n",
      "name: 罗马假日 - Roman Holiday categories: ['剧情', '喜剧', '爱情'] score: \n",
      "name: 唐伯虎点秋香 - Flirting Scholar categories: ['喜剧', '爱情', '古装'] score: \n",
      "name: 乱世佳人 - Gone with the Wind categories: ['剧情', '爱情', '历史', '战争'] score: \n",
      "name: 喜剧之王 - The King of Comedy categories: ['剧情', '喜剧', '爱情'] score: \n",
      "name: 楚门的世界 - The Truman Show categories: ['剧情', '科幻'] score: \n",
      "name: 狮子王 - The Lion King categories: ['动画', '歌舞', '冒险'] score: \n"
     ]
    }
   ],
   "source": [
    "from selenium import webdriver\n",
    "from pyquery import PyQuery as pq\n",
    "from selenium.webdriver.common.by import By\n",
    "from selenium.webdriver.support import expected_conditions as EC\n",
    "from selenium.webdriver.support.wait import WebDriverWait\n",
    "\n",
    "browser = webdriver.Chrome()\n",
    "browser.get('https://antispider4.scrape.center/')\n",
    "WebDriverWait(browser, 10) \\\n",
    "    .until(EC.presence_of_all_elements_located((By.CSS_SELECTOR, '.item')))\n",
    "html = browser.page_source\n",
    "doc = pq(html)\n",
    "items = doc('.item')\n",
    "for item in items.items():\n",
    "    name = item('.name').text()\n",
    "    categories = [o.text() for o in item('.categories button').items()]\n",
    "    score = item('.score').text()\n",
    "    print(f'name: {name} categories: {categories} score: {score}')\n",
    "browser.close()"
   ]
  },
  {
   "cell_type": "code",
   "execution_count": 2,
   "metadata": {},
   "outputs": [
    {
     "name": "stdout",
     "output_type": "stream",
     "text": [
      "9\n",
      "3\n"
     ]
    }
   ],
   "source": [
    "import re\n",
    "import requests\n",
    "url = 'https://antispider4.scrape.center/css/app.654ba59e.css'\n",
    "\n",
    "\n",
    "response = requests.get(url)\n",
    "pattern = re.compile('.icon-(.*?):before\\{content:\"(.*?)\"\\}')\n",
    "results = re.findall(pattern, response.text)\n",
    "icon_map = {item[0]: item[1] for item in results}\n",
    "print(icon_map['789'])\n",
    "print(icon_map['437'])"
   ]
  },
  {
   "cell_type": "code",
   "execution_count": 3,
   "metadata": {},
   "outputs": [
    {
     "name": "stdout",
     "output_type": "stream",
     "text": [
      "name: 霸王别姬 - Farewell My Concubine categories: ['剧情', '爱情'] score: 9.5\n",
      "name: 这个杀手不太冷 - Léon categories: ['剧情', '动作', '犯罪'] score: 9.5\n",
      "name: 肖申克的救赎 - The Shawshank Redemption categories: ['剧情', '犯罪'] score: 9.5\n",
      "name: 泰坦尼克号 - Titanic categories: ['剧情', '爱情', '灾难'] score: 9.5\n",
      "name: 罗马假日 - Roman Holiday categories: ['剧情', '喜剧', '爱情'] score: 9.5\n",
      "name: 唐伯虎点秋香 - Flirting Scholar categories: ['喜剧', '爱情', '古装'] score: 9.5\n",
      "name: 乱世佳人 - Gone with the Wind categories: ['剧情', '爱情', '历史', '战争'] score: 9.5\n",
      "name: 喜剧之王 - The King of Comedy categories: ['剧情', '喜剧', '爱情'] score: 9.5\n",
      "name: 楚门的世界 - The Truman Show categories: ['剧情', '科幻'] score: 9.0\n",
      "name: 狮子王 - The Lion King categories: ['动画', '歌舞', '冒险'] score: 9.0\n"
     ]
    }
   ],
   "source": [
    "from selenium import webdriver\n",
    "from pyquery import PyQuery as pq\n",
    "from selenium.webdriver.common.by import By\n",
    "from selenium.webdriver.support import expected_conditions as EC\n",
    "from selenium.webdriver.support.wait import WebDriverWait\n",
    "import re\n",
    "import requests\n",
    "url = 'https://antispider4.scrape.center/css/app.654ba59e.css'\n",
    "\n",
    "\n",
    "response = requests.get(url)\n",
    "pattern = re.compile('.icon-(.*?):before\\{content:\"(.*?)\"\\}')\n",
    "results = re.findall(pattern, response.text)\n",
    "icon_map = {item[0]: item[1] for item in results}\n",
    "\n",
    "\n",
    "def parse_score(item):\n",
    "    elements = item('.icon')\n",
    "    icon_values = []\n",
    "    for element in elements.items():\n",
    "        class_name = (element.attr('class'))\n",
    "        icon_key = re.search('icon-(\\d+)', class_name).group(1)\n",
    "        icon_value = icon_map.get(icon_key)\n",
    "        icon_values.append(icon_value)\n",
    "    return ''.join(icon_values)\n",
    "\n",
    "\n",
    "browser = webdriver.Chrome()\n",
    "browser.get('https://antispider4.scrape.center/')\n",
    "WebDriverWait(browser, 10) \\\n",
    "    .until(EC.presence_of_all_elements_located((By.CSS_SELECTOR, '.item')))\n",
    "html = browser.page_source\n",
    "doc = pq(html)\n",
    "items = doc('.item')\n",
    "for item in items.items():\n",
    "    name = item('.name').text()\n",
    "    categories = [o.text() for o in item('.categories button').items()]\n",
    "    score = parse_score(item)\n",
    "    print(f'name: {name} categories: {categories} score: {score}')\n",
    "browser.close()"
   ]
  }
 ],
 "metadata": {
  "kernelspec": {
   "display_name": "Python 3.7.13 ('py37')",
   "language": "python",
   "name": "python3"
  },
  "language_info": {
   "codemirror_mode": {
    "name": "ipython",
    "version": 3
   },
   "file_extension": ".py",
   "mimetype": "text/x-python",
   "name": "python",
   "nbconvert_exporter": "python",
   "pygments_lexer": "ipython3",
   "version": "3.7.13"
  },
  "orig_nbformat": 4,
  "vscode": {
   "interpreter": {
    "hash": "a4a847150c17a56e8ab8e8e7872ca30cb83471eb1df49153297cb018a7672186"
   }
  }
 },
 "nbformat": 4,
 "nbformat_minor": 2
}
