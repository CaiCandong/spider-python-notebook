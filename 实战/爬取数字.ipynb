{
 "cells": [
  {
   "cell_type": "code",
   "execution_count": 11,
   "metadata": {},
   "outputs": [
    {
     "data": {
      "text/plain": [
       "266267"
      ]
     },
     "execution_count": 11,
     "metadata": {},
     "output_type": "execute_result"
    }
   ],
   "source": [
    "from urllib import request,parse \n",
    "from bs4 import BeautifulSoup\n",
    "import requests\n",
    "url = 'http://www.glidedsky.com/level/web/crawler-basic-1'\n",
    "headers = {\n",
    "    \"cookie\":\"Hm_lvt_020fbaad6104bcddd1db12d6b78812f6=1658887602; _ga=GA1.2.1959585254.1658887603; _gid=GA1.2.725749185.1658887603; __gads=ID=876a1f949f81d384-2272307758d50080:T=1658887604:RT=1658887604:S=ALNI_MZ5WpXj9IjH516liJvY1qBd5xf3wQ; __gpi=UID=00000819954b1d97:T=1658887604:RT=1658887604:S=ALNI_MbpU3VkMqzguoD9DRJDnCZ6wanaoA; footprints=eyJpdiI6IlU2NGJYckZSREFwWkVBRHA1ZGN5UFE9PSIsInZhbHVlIjoidHM3RldXazZ6d0V2QVRSdkZ0d1FEWFZBZk5QQVZnQ2NnZUVCWm02QkR5TGpiQUd2Y2lNdkczWjJOWEUzWnU1SyIsIm1hYyI6ImI5N2Y1YTZkNjg5YTgzN2VjNDU2YTQxNDczOTQ0YjI3N2IyM2ZjYmZhMjY4NGE4ODMxNzg2YzVjZWZlMzcxOTEifQ==; XSRF-TOKEN=eyJpdiI6IlRKeU04TG15U2krXC9PTU5NY0hsSW9nPT0iLCJ2YWx1ZSI6Inc3WXNHeEJTRXg3azAreUhWUmlMampRZjNEY2g0UXlpVjE2R0VhRUJlWnFVdkNkQTk0QWhNQVB0eXUzejNXdzEiLCJtYWMiOiIwMDNlOTUzN2E0MzY0MGQ1MDc4MmYwNWU0YjU2NGM1NTIxYzQ2NjExOWIzYzlkYmI3NjU1NGZjMzBhMjE3ODA4In0=; glidedsky_session=eyJpdiI6InA0WGh0VTFocTVQSUkxcjdTdXRzbHc9PSIsInZhbHVlIjoiVGJMTFZWakpPV3d2Nk9DQlwvcXRTcVdEU3J1NU1ManlrRGhcL29EU3BMTUVzMTE4VUtHWlI3d1wvckM1MFZXdXJ4byIsIm1hYyI6Ijg5OWUxYzkxZTI0YWRhNGY1MGM1MjlhMTA4NTNjMmQ2ZWI2YTU2ZTI4MmE0ZGRiNzFjMWRkZmU5ZjVmZjg5NjkifQ==; Hm_lpvt_020fbaad6104bcddd1db12d6b78812f6=1658888570\"\n",
    "    }\n",
    "# req.add_header(\"User-Agent\",'Mozilla/4.0 (compatible; MSIE 8.0; Windows NT 6.0)')\n",
    "response = requests.get(url,headers=headers).text\n",
    "soup  = BeautifulSoup(response,'xml')\n",
    "rows =soup.select('div.row div')\n",
    "ret= 0\n",
    "for row in rows :\n",
    "    t=row.text.strip().replace('\\n','')\n",
    "    ret+=int(t)\n",
    "ret \n",
    "\n",
    "\n"
   ]
  }
 ],
 "metadata": {
  "kernelspec": {
   "display_name": "Python 3.9.7 ('base')",
   "language": "python",
   "name": "python3"
  },
  "language_info": {
   "codemirror_mode": {
    "name": "ipython",
    "version": 3
   },
   "file_extension": ".py",
   "mimetype": "text/x-python",
   "name": "python",
   "nbconvert_exporter": "python",
   "pygments_lexer": "ipython3",
   "version": "3.9.7"
  },
  "orig_nbformat": 4,
  "vscode": {
   "interpreter": {
    "hash": "5cb7d1d1f1d5f08d430a9f2c656971d5f7d97295e72ac0e8f84de64712801ef3"
   }
  }
 },
 "nbformat": 4,
 "nbformat_minor": 2
}
