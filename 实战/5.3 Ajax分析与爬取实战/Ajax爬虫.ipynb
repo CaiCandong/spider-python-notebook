{
 "cells": [
  {
   "cell_type": "code",
   "execution_count": null,
   "metadata": {},
   "outputs": [],
   "source": [
    "import requests\n",
    "import logging\n",
    "\n",
    "logging.basicConfig(level=logging.INFO,\n",
    "                    format='%(asctime)s - %(levelname)s: %(message)s')\n",
    "\n",
    "INDEX_URL = 'https://spa1.scrape.center/api/movie/?limit={limit}&offset={offset}'"
   ]
  },
  {
   "cell_type": "code",
   "execution_count": null,
   "metadata": {},
   "outputs": [],
   "source": [
    "def scrape_api(url):\n",
    "    logging.info('scraping %s...', url)\n",
    "    try:\n",
    "        response = requests.get(url)\n",
    "        if response.status_code == 200:\n",
    "            return response.json()\n",
    "        logging.error('get invalid status code %s while scraping %s', response.status_code, url)\n",
    "    except requests.RequestException:\n",
    "        logging.error('error occurred while scraping %s', url, exc_info=True)"
   ]
  },
  {
   "cell_type": "code",
   "execution_count": null,
   "metadata": {},
   "outputs": [],
   "source": [
    "LIMIT = 10\n",
    "\n",
    "def scrape_index(page):\n",
    "    url = INDEX_URL.format(limit=LIMIT, offset=LIMIT * (page - 1))\n",
    "    return scrape_api(url)"
   ]
  },
  {
   "cell_type": "code",
   "execution_count": null,
   "metadata": {},
   "outputs": [],
   "source": [
    "DETAIL_URL = 'https://spa1.scrape.center/api/movie/{id}'\n",
    "\n",
    "def scrape_detail(id):\n",
    "    url = DETAIL_URL.format(id=id)\n",
    "    return scrape_api(url)"
   ]
  },
  {
   "cell_type": "code",
   "execution_count": null,
   "metadata": {},
   "outputs": [],
   "source": [
    "TOTAL_PAGE = 10\n",
    "\n",
    "def main():\n",
    "    for page in range(1, TOTAL_PAGE + 1):\n",
    "        index_data = scrape_index(page)\n",
    "        for item in index_data.get('results'):\n",
    "            id = item.get('id')\n",
    "            detail_data = scrape_detail(id)\n",
    "            logging.info('detail data %s', detail_data)\n",
    "\n",
    "if __name__ == '__main__':\n",
    "    main()"
   ]
  },
  {
   "cell_type": "code",
   "execution_count": null,
   "metadata": {},
   "outputs": [],
   "source": [
    "MONGO_CONNECTION_STRING = 'mongodb://localhost:27017'\n",
    "MONGO_DB_NAME = 'movies'\n",
    "MONGO_COLLECTION_NAME = 'movies'\n",
    "\n",
    "import pymongo\n",
    "client = pymongo.MongoClient(MONGO_CONNECTION_STRING)\n",
    "db = client['movies']\n",
    "collection = db['movies']"
   ]
  },
  {
   "cell_type": "code",
   "execution_count": null,
   "metadata": {},
   "outputs": [],
   "source": []
  }
 ],
 "metadata": {
  "kernelspec": {
   "display_name": "Python 3.9.7 ('base')",
   "language": "python",
   "name": "python3"
  },
  "language_info": {
   "codemirror_mode": {
    "name": "ipython",
    "version": 3
   },
   "file_extension": ".py",
   "mimetype": "text/x-python",
   "name": "python",
   "nbconvert_exporter": "python",
   "pygments_lexer": "ipython3",
   "version": "3.9.7"
  },
  "orig_nbformat": 4,
  "vscode": {
   "interpreter": {
    "hash": "5cb7d1d1f1d5f08d430a9f2c656971d5f7d97295e72ac0e8f84de64712801ef3"
   }
  }
 },
 "nbformat": 4,
 "nbformat_minor": 2
}
