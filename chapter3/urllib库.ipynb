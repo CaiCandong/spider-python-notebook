{
 "cells": [
  {
   "cell_type": "markdown",
   "metadata": {},
   "source": [
    "# 1.发起简单请求"
   ]
  },
  {
   "cell_type": "code",
   "execution_count": null,
   "metadata": {},
   "outputs": [],
   "source": [
    "import urllib.request\n",
    "\n",
    "response  = urllib.request.urlopen(\"https://www.python.org\")\n",
    "response.read().decode('utf-8')"
   ]
  },
  {
   "cell_type": "code",
   "execution_count": null,
   "metadata": {},
   "outputs": [],
   "source": [
    "type(response)"
   ]
  },
  {
   "cell_type": "code",
   "execution_count": null,
   "metadata": {},
   "outputs": [],
   "source": [
    "response.status,response.getheaders(),response.getheader('server')"
   ]
  },
  {
   "cell_type": "markdown",
   "metadata": {},
   "source": [
    "# 2.携带数据字段和超时设置"
   ]
  },
  {
   "cell_type": "code",
   "execution_count": null,
   "metadata": {},
   "outputs": [],
   "source": [
    "import urllib.request\n",
    "import urllib.parse \n",
    "\n",
    "data= bytes(urllib.parse.urlencode({\"word\":\"hello\"}),encoding='utf8')\n",
    "# 发起post 请求\n",
    "response  = urllib.request.urlopen(\"https://httpbin.org/post\",data=data)\n",
    "response.read()"
   ]
  },
  {
   "cell_type": "code",
   "execution_count": null,
   "metadata": {},
   "outputs": [],
   "source": [
    "import urllib.request\n",
    "import socket\n",
    "# 设置超时来捕获异常\n",
    "try:\n",
    "    response  = urllib.request.urlopen(\"https://httpbin.org/get\",timeout=0.1)\n",
    "    print(response.read())\n",
    "except urllib.error.URLError as e :\n",
    "    if isinstance(e.reason,socket.timeout):\n",
    "        print('time out')"
   ]
  },
  {
   "cell_type": "markdown",
   "metadata": {},
   "source": [
    "# 3.构造Request对象"
   ]
  },
  {
   "cell_type": "code",
   "execution_count": null,
   "metadata": {},
   "outputs": [],
   "source": [
    "import urllib.request\n",
    "request = urllib.request.Request('https://python.org')\n",
    "# 传入request对象\n",
    "response = urllib.request.urlopen(request)\n",
    "response.read().decode('utf-8')"
   ]
  },
  {
   "cell_type": "code",
   "execution_count": null,
   "metadata": {},
   "outputs": [],
   "source": [
    "from urllib import request,parse \n",
    "url = 'http://httpbin.org/post'\n",
    "headers ={\n",
    "    \"User-Agent\":'Mozilla/4.0 (compatible; MSIE 8.0; Windows NT 6.0)',\n",
    "    \"Host\":'httpbin.org'\n",
    "}\n",
    "data=bytes(parse.urlencode({\n",
    "    'name':'Germey'\n",
    "}),encoding='utf-8')\n",
    "req = request.Request(url=url,data=data,headers=headers,method='POST')\n",
    "# req.add_header(\"User-Agent\",'Mozilla/4.0 (compatible; MSIE 8.0; Windows NT 6.0)')\n",
    "response = request.urlopen(req)\n",
    "response.read().decode('utf-8')\n"
   ]
  },
  {
   "cell_type": "markdown",
   "metadata": {},
   "source": [
    "# 4.处理登录逻辑"
   ]
  },
  {
   "cell_type": "code",
   "execution_count": 19,
   "metadata": {},
   "outputs": [
    {
     "name": "stdout",
     "output_type": "stream",
     "text": [
      "<!DOCTYPE html>\n",
      "<html lang=\"en\">\n",
      "<head>\n",
      "    <meta charset=\"utf-8\">\n",
      "    <meta name=\"viewport\" content=\"width=device-width, initial-scale=1\">\n",
      "\n",
      "    <!-- CSRF Token -->\n",
      "    <meta name=\"csrf-token\" content=\"GbXRkFARVCnBgxE5idwphkCJ1CUdPJvmNiK2TaEv\">\n",
      "        <title>GlidedSky</title>\n",
      "        <!-- Scripts -->\n",
      "    <script src=\"http://www.glidedsky.com/js/app.js\"></script>\n",
      "\n",
      "    <!-- Fonts -->\n",
      "    <link rel=\"dns-prefetch\" href=\"//fonts.gstatic.com\">\n",
      "    <link href=\"https://fonts.googleapis.com/css?family=Nunito\" rel=\"stylesheet\" type=\"text/css\">\n",
      "\n",
      "    <!-- Styles -->\n",
      "    <link href=\"http://www.glidedsky.com/css/app.css\" rel=\"stylesheet\">\n",
      "        \n",
      "    <script async src=\"//pagead2.googlesyndication.com/pagead/js/adsbygoogle.js\"></script>\n",
      "    <script>\n",
      "        (adsbygoogle = window.adsbygoogle || []).push({\n",
      "            google_ad_client: \"ca-pub-2566260602093595\",\n",
      "            enable_page_level_ads: true\n",
      "        });\n",
      "    </script>\n",
      "            <!-- Global site tag (gtag.js) - Google Analytics -->\n",
      "        <script async src=\"https://www.googletagmanager.com/gtag/js?id=UA-75859356-3\"></script>\n",
      "        <script>\n",
      "            window.dataLayer = window.dataLayer || [];\n",
      "            function gtag(){dataLayer.push(arguments);}\n",
      "            gtag('js', new Date());\n",
      "            gtag('config', 'UA-75859356-3');\n",
      "        </script>\n",
      "        <script>\n",
      "            var _hmt = _hmt || [];\n",
      "            (function() {\n",
      "                var hm = document.createElement(\"script\");\n",
      "                hm.src = \"https://hm.baidu.com/hm.js?020fbaad6104bcddd1db12d6b78812f6\";\n",
      "                var s = document.getElementsByTagName(\"script\")[0];\n",
      "                s.parentNode.insertBefore(hm, s);\n",
      "            })();\n",
      "        </script>\n",
      "    \n",
      "</head>\n",
      "<body>\n",
      "    <div id=\"app\">\n",
      "        <nav class=\"navbar navbar-expand-md navbar-light navbar-laravel\">\n",
      "            <div class=\"container\">\n",
      "                <a class=\"navbar-brand\" href=\"http://www.glidedsky.com\">\n",
      "                    GlidedSky\n",
      "                </a>\n",
      "                <button class=\"navbar-toggler\" type=\"button\" data-toggle=\"collapse\" data-target=\"#navbarSupportedContent\" aria-controls=\"navbarSupportedContent\" aria-expanded=\"false\" aria-label=\"Toggle navigation\">\n",
      "                    <span class=\"navbar-toggler-icon\"></span>\n",
      "                </button>\n",
      "\n",
      "                <div class=\"collapse navbar-collapse\" id=\"navbarSupportedContent\" style=\"font-size: 1.15em\">\n",
      "                    <!-- Left Side Of Navbar -->\n",
      "                    <ul class=\"navbar-nav mr-auto\">\n",
      "                        <li class=\"nav-item \">\n",
      "                            <a class=\"nav-link\" href=\"http://www.glidedsky.com\">Home</a>\n",
      "                        </li>\n",
      "                                            </ul>\n",
      "                    <!-- Right Side Of Navbar -->\n",
      "                    <ul class=\"navbar-nav ml-auto\">\n",
      "                        <!-- Authentication Links -->\n",
      "                        \n",
      "\n",
      "\n",
      "\n",
      "\n",
      "\n",
      "\n",
      "\n",
      "                                            </ul>\n",
      "                </div>\n",
      "            </div>\n",
      "        </nav>\n",
      "\n",
      "        <main class=\"py-4\">\n",
      "            <div class=\"container\">\n",
      "    <div class=\"row justify-content-center\">\n",
      "        <div class=\"col-md-8\">\n",
      "            <div class=\"card\">\n",
      "                <div class=\"card-header\">Login</div>\n",
      "\n",
      "                <div class=\"card-body\">\n",
      "                    <form method=\"POST\" action=\"http://www.glidedsky.com/login\">\n",
      "                        <input type=\"hidden\" name=\"_token\" value=\"GbXRkFARVCnBgxE5idwphkCJ1CUdPJvmNiK2TaEv\">\n",
      "                        <div class=\"form-group row\">\n",
      "                            <label for=\"email\" class=\"col-md-4 col-form-label text-md-right\">E-Mail Address</label>\n",
      "\n",
      "                            <div class=\"col-md-6\">\n",
      "                                <input id=\"email\" type=\"email\" class=\"form-control\" name=\"email\" value=\"\" required autofocus>\n",
      "\n",
      "                                                            </div>\n",
      "                        </div>\n",
      "\n",
      "                        <div class=\"form-group row\">\n",
      "                            <label for=\"password\" class=\"col-md-4 col-form-label text-md-right\">Password</label>\n",
      "\n",
      "                            <div class=\"col-md-6\">\n",
      "                                <input id=\"password\" type=\"password\" class=\"form-control\" name=\"password\" required>\n",
      "\n",
      "                                                            </div>\n",
      "                        </div>\n",
      "\n",
      "                        <div class=\"form-group row\">\n",
      "                            <div class=\"col-md-6 offset-md-4\">\n",
      "                                <div class=\"form-check\">\n",
      "                                    <input class=\"form-check-input\" type=\"checkbox\" name=\"remember\" id=\"remember\" >\n",
      "\n",
      "                                    <label class=\"form-check-label\" for=\"remember\">\n",
      "                                        Remember Me\n",
      "                                    </label>\n",
      "                                </div>\n",
      "                            </div>\n",
      "                        </div>\n",
      "\n",
      "                        <div class=\"form-group row mb-0\">\n",
      "                            <div class=\"col-md-8 offset-md-4\">\n",
      "                                <button type=\"submit\" class=\"btn btn-primary\">\n",
      "                                    Login\n",
      "                                </button>\n",
      "                                                                    <a class=\"btn btn-link\" href=\"http://www.glidedsky.com/password/reset\">\n",
      "                                        Forgot Your Password?\n",
      "                                    </a>\n",
      "                                                                <a class=\"btn btn-link\" href=\"http://www.glidedsky.com/register\">\n",
      "                                    No Account?\n",
      "                                </a>\n",
      "                            </div>\n",
      "                        </div>\n",
      "                    </form>\n",
      "                </div>\n",
      "            </div>\n",
      "        </div>\n",
      "    </div>\n",
      "</div>\n",
      "            <div class=\"footer\" style=\"color: gray;margin-top: 40px\">\n",
      "                <div class=\"text-center\">\n",
      "                    镀金的天空©2020\n",
      "                    <a href=\"http://beian.miit.gov.cn\">\n",
      "                        粤ICP备19038709号\n",
      "                    </a>\n",
      "                </div>\n",
      "            </div>\n",
      "        </main>\n",
      "    </div>\n",
      "                    <script>\n",
      "        _hmt.push(['_trackEvent', 'login', 'view']);\n",
      "        gtag('event', 'view', {\n",
      "            'event_category': 'login',\n",
      "        });\n",
      "    </script>\n",
      "    </body>\n",
      "</html>\n",
      "\n"
     ]
    }
   ],
   "source": [
    "from urllib.request  import HTTPPasswordMgrWithDefaultRealm,HTTPBasicAuthHandler,build_opener\n",
    "from urllib.error import URLError\n",
    "username =\"1290147055@qq.com\"\n",
    "# password= \"aDs9JDkq4xRPuKH\"\n",
    "password= \"aDs9JDkq4xRPuK\"\n",
    "url =\"http://www.glidedsky.com/login\"\n",
    "\n",
    "p = HTTPPasswordMgrWithDefaultRealm()\n",
    "p.add_password(None,url,username,password)\n",
    "auth_handler = HTTPBasicAuthHandler(p)\n",
    "opener = build_opener(auth_handler)\n",
    "\n",
    "try:\n",
    "    result = opener.open(url)\n",
    "    html = result.read().decode('utf-8')\n",
    "    print(html)\n",
    "except URLError as e :\n",
    "    print(e.reason)"
   ]
  }
 ],
 "metadata": {
  "kernelspec": {
   "display_name": "Python 3.9.7 ('base')",
   "language": "python",
   "name": "python3"
  },
  "language_info": {
   "codemirror_mode": {
    "name": "ipython",
    "version": 3
   },
   "file_extension": ".py",
   "mimetype": "text/x-python",
   "name": "python",
   "nbconvert_exporter": "python",
   "pygments_lexer": "ipython3",
   "version": "3.9.7"
  },
  "orig_nbformat": 4,
  "vscode": {
   "interpreter": {
    "hash": "5cb7d1d1f1d5f08d430a9f2c656971d5f7d97295e72ac0e8f84de64712801ef3"
   }
  }
 },
 "nbformat": 4,
 "nbformat_minor": 2
}
