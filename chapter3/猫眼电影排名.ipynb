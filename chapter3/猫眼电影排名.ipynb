{
 "cells": [
  {
   "cell_type": "markdown",
   "metadata": {},
   "source": [
    "# 爬取猫眼电影排名(正则表达式)\n",
    "为简化问题，使用镜像网站进行爬取[猫眼电影镜像](https://ssr1.scrape.center/)"
   ]
  },
  {
   "cell_type": "markdown",
   "metadata": {},
   "source": [
    "单个电影的源代码如下：编写正则表达式进行数据整理"
   ]
  },
  {
   "cell_type": "markdown",
   "metadata": {},
   "source": [
    "# 使用bs库"
   ]
  },
  {
   "cell_type": "code",
   "execution_count": 78,
   "metadata": {},
   "outputs": [],
   "source": [
    "import json\n",
    "import requests\n",
    "from requests.exceptions import RequestException\n",
    "import re\n",
    "import time\n",
    "from bs4 import BeautifulSoup\n",
    "\n",
    "def get_one_page(url):\n",
    "    try:\n",
    "        headers = {\n",
    "            'User-Agent': 'Mozilla/5.0 (Macintosh; Intel Mac OS X 10_13_3) AppleWebKit/537.36 (KHTML, like Gecko) Chrome/65.0.3325.162 Safari/537.36'\n",
    "        }\n",
    "        response = requests.get(url, headers=headers)\n",
    "        if response.status_code == 200:\n",
    "            return response.text\n",
    "        return None\n",
    "    except RequestException:\n",
    "        return None\n",
    "\n",
    "def parse_one_page(html):\n",
    "    soup= BeautifulSoup(html,'xml')\n",
    "    rows=soup.select(\".el-card__body > .el-row\")\n",
    "    for row in rows :\n",
    "        yield {\n",
    "            'index': int(row.select_one(\".name\").get(\"href\").split('/')[-1]),\n",
    "            'image': row.select_one(\"img\").get(\"src\"),\n",
    "            'title': row.select_one(\".name\").text.strip(),\n",
    "            'categories': [span.text for span in row.select(\".categories span\") ],\n",
    "            'time': [info.text for info in row.select(\".info span\")][-1],\n",
    "            'score': float(row.select_one(\".score\").text.strip())\n",
    "        }\n",
    "\n",
    "def write_to_file(content):\n",
    "    with open('result.txt', 'a', encoding='utf-8') as f:\n",
    "        f.write(json.dumps(content, ensure_ascii=False) + '\\n')"
   ]
  },
  {
   "cell_type": "code",
   "execution_count": 79,
   "metadata": {},
   "outputs": [],
   "source": [
    "def main(page):\n",
    "    url = f\"https://ssr1.scrape.center/page/{str(page)}\"\n",
    "    html = get_one_page(url)\n",
    "    for item in parse_one_page(html):\n",
    "        print(item)\n",
    "        write_to_file(item)"
   ]
  },
  {
   "cell_type": "code",
   "execution_count": 80,
   "metadata": {},
   "outputs": [
    {
     "name": "stdout",
     "output_type": "stream",
     "text": [
      "{'index': 1, 'image': 'https://p0.meituan.net/movie/ce4da3e03e655b5b88ed31b5cd7896cf62472.jpg@464w_644h_1e_1c', 'title': '霸王别姬 - Farewell My Concubine', 'categories': ['剧情', '爱情'], 'time': '1993-07-26 上映', 'score': 9.5}\n",
      "{'index': 2, 'image': 'https://p1.meituan.net/movie/6bea9af4524dfbd0b668eaa7e187c3df767253.jpg@464w_644h_1e_1c', 'title': '这个杀手不太冷 - Léon', 'categories': ['剧情', '动作', '犯罪'], 'time': '1994-09-14 上映', 'score': 9.5}\n",
      "{'index': 3, 'image': 'https://p0.meituan.net/movie/283292171619cdfd5b240c8fd093f1eb255670.jpg@464w_644h_1e_1c', 'title': '肖申克的救赎 - The Shawshank Redemption', 'categories': ['剧情', '犯罪'], 'time': '1994-09-10 上映', 'score': 9.5}\n",
      "{'index': 4, 'image': 'https://p1.meituan.net/movie/b607fba7513e7f15eab170aac1e1400d878112.jpg@464w_644h_1e_1c', 'title': '泰坦尼克号 - Titanic', 'categories': ['剧情', '爱情', '灾难'], 'time': '1998-04-03 上映', 'score': 9.5}\n",
      "{'index': 5, 'image': 'https://p0.meituan.net/movie/289f98ceaa8a0ae737d3dc01cd05ab052213631.jpg@464w_644h_1e_1c', 'title': '罗马假日 - Roman Holiday', 'categories': ['剧情', '喜剧', '爱情'], 'time': '1953-08-20 上映', 'score': 9.5}\n",
      "{'index': 6, 'image': 'https://p0.meituan.net/movie/da64660f82b98cdc1b8a3804e69609e041108.jpg@464w_644h_1e_1c', 'title': '唐伯虎点秋香 - Flirting Scholar', 'categories': ['喜剧', '爱情', '古装'], 'time': '1993-07-01 上映', 'score': 9.5}\n",
      "{'index': 7, 'image': 'https://p0.meituan.net/movie/223c3e186db3ab4ea3bb14508c709400427933.jpg@464w_644h_1e_1c', 'title': '乱世佳人 - Gone with the Wind', 'categories': ['剧情', '爱情', '历史', '战争'], 'time': '1939-12-15 上映', 'score': 9.5}\n",
      "{'index': 8, 'image': 'https://p0.meituan.net/movie/1f0d671f6a37f9d7b015e4682b8b113e174332.jpg@464w_644h_1e_1c', 'title': '喜剧之王 - The King of Comedy', 'categories': ['剧情', '喜剧', '爱情'], 'time': '1999-02-13 上映', 'score': 9.5}\n",
      "{'index': 9, 'image': 'https://p0.meituan.net/movie/8959888ee0c399b0fe53a714bc8a5a17460048.jpg@464w_644h_1e_1c', 'title': '楚门的世界 - The Truman Show', 'categories': ['剧情', '科幻'], 'time': '103 分钟', 'score': 9.0}\n",
      "{'index': 10, 'image': 'https://p0.meituan.net/movie/27b76fe6cf3903f3d74963f70786001e1438406.jpg@464w_644h_1e_1c', 'title': '狮子王 - The Lion King', 'categories': ['动画', '歌舞', '冒险'], 'time': '1995-07-15 上映', 'score': 9.0}\n"
     ]
    }
   ],
   "source": [
    "for i in range(1,11):\n",
    "    main(i)\n",
    "    time.sleep(1)\n"
   ]
  },
  {
   "cell_type": "code",
   "execution_count": 67,
   "metadata": {},
   "outputs": [
    {
     "data": {
      "text/plain": [
       "11"
      ]
     },
     "execution_count": 67,
     "metadata": {},
     "output_type": "execute_result"
    }
   ],
   "source": [
    "int(row.select_one(\".name\").get(\"href\").split('/')[-1])"
   ]
  },
  {
   "cell_type": "code",
   "execution_count": 49,
   "metadata": {},
   "outputs": [
    {
     "data": {
      "text/plain": [
       "'https://p1.meituan.net/movie/06ec3c1c647942b1e40bca84036014e9490863.jpg@464w_644h_1e_1c'"
      ]
     },
     "execution_count": 49,
     "metadata": {},
     "output_type": "execute_result"
    }
   ],
   "source": [
    "row.select_one(\"img\").get(\"src\")"
   ]
  },
  {
   "cell_type": "code",
   "execution_count": 70,
   "metadata": {},
   "outputs": [
    {
     "data": {
      "text/plain": [
       "'V字仇杀队 - V for Vendetta'"
      ]
     },
     "execution_count": 70,
     "metadata": {},
     "output_type": "execute_result"
    }
   ],
   "source": [
    "row.select_one(\".name\").text.strip()"
   ]
  },
  {
   "cell_type": "code",
   "execution_count": 46,
   "metadata": {},
   "outputs": [
    {
     "data": {
      "text/plain": [
       "['剧情', '动作', '科幻', '惊悚']"
      ]
     },
     "execution_count": 46,
     "metadata": {},
     "output_type": "execute_result"
    }
   ],
   "source": [
    "[span.text for span in row.select(\".categories span\") ]"
   ]
  },
  {
   "cell_type": "code",
   "execution_count": 54,
   "metadata": {},
   "outputs": [
    {
     "data": {
      "text/plain": [
       "['美国、英国、德国', ' / ', '132 分钟', '2005-12-11 上映']"
      ]
     },
     "execution_count": 54,
     "metadata": {},
     "output_type": "execute_result"
    }
   ],
   "source": [
    "[info.text for info in row.select(\".info span\")]"
   ]
  },
  {
   "cell_type": "code",
   "execution_count": 59,
   "metadata": {},
   "outputs": [
    {
     "data": {
      "text/plain": [
       "8.9"
      ]
     },
     "execution_count": 59,
     "metadata": {},
     "output_type": "execute_result"
    }
   ],
   "source": [
    "float(row.select_one(\".score\").text.strip())"
   ]
  }
 ],
 "metadata": {
  "kernelspec": {
   "display_name": "Python 3.9.7 ('base')",
   "language": "python",
   "name": "python3"
  },
  "language_info": {
   "codemirror_mode": {
    "name": "ipython",
    "version": 3
   },
   "file_extension": ".py",
   "mimetype": "text/x-python",
   "name": "python",
   "nbconvert_exporter": "python",
   "pygments_lexer": "ipython3",
   "version": "3.9.7"
  },
  "orig_nbformat": 4,
  "vscode": {
   "interpreter": {
    "hash": "5cb7d1d1f1d5f08d430a9f2c656971d5f7d97295e72ac0e8f84de64712801ef3"
   }
  }
 },
 "nbformat": 4,
 "nbformat_minor": 2
}
