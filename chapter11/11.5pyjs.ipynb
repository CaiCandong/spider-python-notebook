{
 "cells": [
  {
   "cell_type": "markdown",
   "metadata": {},
   "source": [
    "# 0.安装环境\n",
    "``` bash \n",
    "pip3 install pyexecjs\n",
    "```"
   ]
  },
  {
   "cell_type": "code",
   "execution_count": 2,
   "metadata": {},
   "outputs": [
    {
     "name": "stdout",
     "output_type": "stream",
     "text": [
      "Node.js (V8)\n"
     ]
    }
   ],
   "source": [
    "import execjs\n",
    "print(execjs.get().name)"
   ]
  },
  {
   "cell_type": "code",
   "execution_count": 12,
   "metadata": {},
   "outputs": [],
   "source": [
    "js_script=\"\"\"\n",
    "\n",
    "function getToken(player) {\n",
    "  let key = CryptoJS.enc.Utf8.parse(\"fipFfVsZsTda94hJNKJfLoaqyqMZFFimwLt\");\n",
    "  const { name, birthday, height, weight } = player;\n",
    "  let base64Name = CryptoJS.enc.Base64.stringify(CryptoJS.enc.Utf8.parse(name));\n",
    "  let encrypted = CryptoJS.DES.encrypt(\n",
    "    `${base64Name}${birthday}${height}${weight}`,\n",
    "    key,\n",
    "    {\n",
    "      mode: CryptoJS.mode.ECB,\n",
    "      padding: CryptoJS.pad.Pkcs7,\n",
    "    }\n",
    "  );\n",
    "  return encrypted.toString();\n",
    "}\n",
    "\"\"\"\n",
    "\n",
    "item = {\n",
    "    'name': '凯文-杜兰特',\n",
    "    'image': 'durant.png',\n",
    "    'birthday': '1988-09-29',\n",
    "    'height': '208cm',\n",
    "    'weight': '108.9KG'\n",
    "}"
   ]
  },
  {
   "cell_type": "code",
   "execution_count": 17,
   "metadata": {},
   "outputs": [],
   "source": [
    "file = 'crypto-js.min.js'\n",
    "node = execjs.get()\n",
    "ctx = node.compile(open(file).read()+js_script)\n"
   ]
  },
  {
   "cell_type": "code",
   "execution_count": 18,
   "metadata": {},
   "outputs": [
    {
     "name": "stdout",
     "output_type": "stream",
     "text": [
      "getToken({\"name\": \"凯文-杜兰特\", \"image\": \"durant.png\", \"birthday\": \"1988-09-29\", \"height\": \"208cm\", \"weight\": \"108.9KG\"})\n",
      "DG1uMMq1M7OeHhds71HlSMHOoI2tFpWCB4ApP00cVFqptmlFKjFu9RluHo2w3mUw\n"
     ]
    }
   ],
   "source": [
    "import json \n",
    "js = f\"getToken({json.dumps(item, ensure_ascii=False)})\"\n",
    "print(js)\n",
    "result = ctx.eval(js)\n",
    "print(result)"
   ]
  },
  {
   "cell_type": "code",
   "execution_count": 35,
   "metadata": {},
   "outputs": [
    {
     "data": {
      "text/plain": [
       "'gQSfeqldQIJKAZHH9TzRX/exvIwb0j73b2cjXvy6PeZ3rGW6sQsL2w=='"
      ]
     },
     "execution_count": 35,
     "metadata": {},
     "output_type": "execute_result"
    }
   ],
   "source": [
    "import requests\n",
    "requests.post(url=\"http://localhost:3000\",data=item).text"
   ]
  },
  {
   "cell_type": "code",
   "execution_count": 29,
   "metadata": {},
   "outputs": [
    {
     "data": {
      "text/plain": [
       "'DG1uMMq1M7OeHhds71HlSMHOoI2tFpWCB4ApP00cVFqptmlFKjFu9RluHo2w3mUw'"
      ]
     },
     "execution_count": 29,
     "metadata": {},
     "output_type": "execute_result"
    }
   ],
   "source": [
    "import requests\n",
    "requests.post(url=\"http://localhost:3000\",json=item).text"
   ]
  },
  {
   "cell_type": "code",
   "execution_count": 36,
   "metadata": {},
   "outputs": [
    {
     "data": {
      "text/plain": [
       "'DG1uMMq1M7OeHhds71HlSMHOoI2tFpWCB4ApP00cVFqptmlFKjFu9RluHo2w3mUw'"
      ]
     },
     "execution_count": 36,
     "metadata": {},
     "output_type": "execute_result"
    }
   ],
   "source": [
    "import requests\n",
    "\n",
    "url = \"http://localhost:3000\"\n",
    "data = {'sender': 'Alice', 'receiver': 'Bob', 'message': 'We did it!'}\n",
    "headers = {'Content-type': 'application/json', 'Accept': 'text/plain'}\n",
    "r = requests.post(url, data=json.dumps(item), headers=headers)\n",
    "r.text"
   ]
  },
  {
   "cell_type": "code",
   "execution_count": null,
   "metadata": {},
   "outputs": [],
   "source": []
  }
 ],
 "metadata": {
  "kernelspec": {
   "display_name": "Python 3.9.7 ('base')",
   "language": "python",
   "name": "python3"
  },
  "language_info": {
   "codemirror_mode": {
    "name": "ipython",
    "version": 3
   },
   "file_extension": ".py",
   "mimetype": "text/x-python",
   "name": "python",
   "nbconvert_exporter": "python",
   "pygments_lexer": "ipython3",
   "version": "3.9.7"
  },
  "orig_nbformat": 4,
  "vscode": {
   "interpreter": {
    "hash": "5cb7d1d1f1d5f08d430a9f2c656971d5f7d97295e72ac0e8f84de64712801ef3"
   }
  }
 },
 "nbformat": 4,
 "nbformat_minor": 2
}
