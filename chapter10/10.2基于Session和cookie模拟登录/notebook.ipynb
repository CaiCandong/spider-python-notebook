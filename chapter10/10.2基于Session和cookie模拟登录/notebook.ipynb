{
 "cells": [
  {
   "cell_type": "markdown",
   "metadata": {},
   "source": [
    "# 通过requests进行登录"
   ]
  },
  {
   "cell_type": "markdown",
   "metadata": {},
   "source": [
    "## 手动管理cookies"
   ]
  },
  {
   "cell_type": "code",
   "execution_count": 4,
   "metadata": {},
   "outputs": [
    {
     "name": "stdout",
     "output_type": "stream",
     "text": [
      "<RequestsCookieJar[<Cookie sessionid=51cc40bc74oj6v8hu38zuoxiij9vzprx for login2.scrape.center/>]>\n"
     ]
    },
    {
     "data": {
      "text/plain": [
       "(200, 'https://login2.scrape.center/page/2')"
      ]
     },
     "execution_count": 4,
     "metadata": {},
     "output_type": "execute_result"
    }
   ],
   "source": [
    "import requests\n",
    "url  = \"https://login2.scrape.center/login\"\n",
    "\n",
    "data = {\n",
    "    \"username\":'admin',\n",
    "    \"password\":'admin',\n",
    "}\n",
    "# 禁止自动重定向\n",
    "rep= requests.post(url,data,allow_redirects= False)\n",
    "# requests 自动解析headers中的set-cookies\n",
    "cookies = rep.cookies\n",
    "print(cookies)\n",
    "rep = requests.get(\"https://login2.scrape.center/page/2\",cookies=cookies)\n",
    "rep.status_code,rep.url"
   ]
  },
  {
   "cell_type": "markdown",
   "metadata": {},
   "source": [
    "## 使用session管理cookie"
   ]
  },
  {
   "cell_type": "code",
   "execution_count": 6,
   "metadata": {},
   "outputs": [
    {
     "data": {
      "text/plain": [
       "(200, 'https://login2.scrape.center/page/2')"
      ]
     },
     "execution_count": 6,
     "metadata": {},
     "output_type": "execute_result"
    }
   ],
   "source": [
    "import requests\n",
    "# 创建会话 session，之后的请求都经过session发起\n",
    "sessions= requests.session()\n",
    "\n",
    "url  = \"https://login2.scrape.center/login\"\n",
    "\n",
    "data = {\n",
    "    \"username\":'admin',\n",
    "    \"password\":'admin',\n",
    "}\n",
    "# 禁止自动重定向\n",
    "rep= sessions.post(url,data,allow_redirects= False)\n",
    "# 进行访问\n",
    "rep = sessions.get(\"https://login2.scrape.center/page/2\")\n",
    "rep.status_code,rep.url"
   ]
  },
  {
   "cell_type": "markdown",
   "metadata": {},
   "source": [
    "# 借助selenium模拟登录获取cookies"
   ]
  },
  {
   "cell_type": "code",
   "execution_count": 13,
   "metadata": {},
   "outputs": [
    {
     "name": "stdout",
     "output_type": "stream",
     "text": [
      "[{'domain': 'login2.scrape.center', 'expiry': 1660901863, 'httpOnly': True, 'name': 'sessionid', 'path': '/', 'sameSite': 'Lax', 'secure': False, 'value': 'a5ayeeijetawmpf0b3i9b3hocj9fw88p'}]\n",
      "{'domain': 'login2.scrape.center', 'expiry': 1660901863, 'httpOnly': True, 'name': 'sessionid', 'path': '/', 'sameSite': 'Lax', 'secure': False, 'value': 'a5ayeeijetawmpf0b3i9b3hocj9fw88p'}\n"
     ]
    },
    {
     "data": {
      "text/plain": [
       "(200, 'https://login2.scrape.center/page/2')"
      ]
     },
     "execution_count": 13,
     "metadata": {},
     "output_type": "execute_result"
    }
   ],
   "source": [
    "from selenium import webdriver\n",
    "from pyquery import PyQuery as pq\n",
    "from selenium.webdriver.common.by import By\n",
    "from selenium.webdriver.support import expected_conditions as EC\n",
    "from selenium.webdriver.support.wait import WebDriverWait\n",
    "import time\n",
    "browser = webdriver.Chrome()\n",
    "url  = \"https://login2.scrape.center/login\"\n",
    "browser.get(url)\n",
    "browser.find_element(by=By.CSS_SELECTOR,value=\"input[name='username']\").send_keys(\"admin\")\n",
    "browser.find_element(by=By.CSS_SELECTOR,value=\"input[name='password']\").send_keys(\"admin\")\n",
    "browser.find_element(by=By.CSS_SELECTOR,value=\"input[type='submit']\").click()\n",
    "time.sleep(10)\n",
    "\n",
    "# 获取cookies\n",
    "cookies = browser.get_cookies()\n",
    "browser.close()\n",
    "# print(cookies)\n",
    "sessions = requests.session()\n",
    "for cookie in cookies:\n",
    "    # print(cookie)\n",
    "    sessions.cookies.set(cookie['name'],cookie['value'])\n",
    "\n",
    "rep = sessions.get(\"https://login2.scrape.center/page/2\")\n",
    "rep.status_code,rep.url\n"
   ]
  }
 ],
 "metadata": {
  "kernelspec": {
   "display_name": "Python 3.7.13 ('py37')",
   "language": "python",
   "name": "python3"
  },
  "language_info": {
   "codemirror_mode": {
    "name": "ipython",
    "version": 3
   },
   "file_extension": ".py",
   "mimetype": "text/x-python",
   "name": "python",
   "nbconvert_exporter": "python",
   "pygments_lexer": "ipython3",
   "version": "3.7.13"
  },
  "orig_nbformat": 4,
  "vscode": {
   "interpreter": {
    "hash": "a4a847150c17a56e8ab8e8e7872ca30cb83471eb1df49153297cb018a7672186"
   }
  }
 },
 "nbformat": 4,
 "nbformat_minor": 2
}
